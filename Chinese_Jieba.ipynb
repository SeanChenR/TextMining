{
 "cells": [
  {
   "cell_type": "code",
   "execution_count": 1,
   "id": "1d734038",
   "metadata": {},
   "outputs": [
    {
     "data": {
      "text/plain": [
       "sys.version_info(major=3, minor=11, micro=4, releaselevel='final', serial=0)"
      ]
     },
     "execution_count": 1,
     "metadata": {},
     "output_type": "execute_result"
    }
   ],
   "source": [
    "import sys\n",
    "import re\n",
    "import os\n",
    "import nltk\n",
    "import string\n",
    "import wget\n",
    "from collections import Counter\n",
    "sys.version_info"
   ]
  },
  {
   "cell_type": "markdown",
   "id": "957c3e36",
   "metadata": {},
   "source": [
    "# 3 NLP Tool"
   ]
  },
  {
   "cell_type": "code",
   "execution_count": 2,
   "id": "f16b4afc",
   "metadata": {},
   "outputs": [],
   "source": [
    "zh_text = ['人工智慧亦稱智域、機器智慧，指由人製造出來的機器所表現出來的智慧。',\n",
    "           '通常人工智慧是指透過普通電腦程式來呈現人類智慧的技術。',\n",
    "           '中華郵政未來智慧物流服務，將取之大眾智慧，中華郵政帶給民眾更好的便利生活。']"
   ]
  },
  {
   "cell_type": "code",
   "execution_count": 4,
   "id": "82aedf93",
   "metadata": {},
   "outputs": [],
   "source": [
    "en_text = ['In 1951, a board of directors was created and premises were rented on Hankou Street in downtown Taipei to set up the so-called Soochow Preparatory School.',\n",
    "           'The school became the first private university in Taiwan.']"
   ]
  },
  {
   "cell_type": "markdown",
   "id": "e95b70b9",
   "metadata": {},
   "source": [
    "# 3.1.1 Jieba-Chinese text segmentation"
   ]
  },
  {
   "cell_type": "code",
   "execution_count": 6,
   "id": "042d17ec",
   "metadata": {},
   "outputs": [],
   "source": [
    "import jieba\n",
    "import jieba.posseg as pseg"
   ]
  },
  {
   "cell_type": "code",
   "execution_count": 7,
   "id": "a08ab3ce",
   "metadata": {},
   "outputs": [
    {
     "name": "stdout",
     "output_type": "stream",
     "text": [
      "100% [..........................................................................] 8583143 / 8583143"
     ]
    },
    {
     "name": "stderr",
     "output_type": "stream",
     "text": [
      "Building prefix dict from C:\\Users\\user\\dict.txt.big ...\n"
     ]
    },
    {
     "name": "stdout",
     "output_type": "stream",
     "text": [
      "\r",
      "  0% [                                                                                  ]   0 / 151\r",
      "100% [..................................................................................] 151 / 151"
     ]
    },
    {
     "name": "stderr",
     "output_type": "stream",
     "text": [
      "Dumping model to file cache C:\\Users\\user\\AppData\\Local\\Temp\\jieba.ua7677c818aa16337f448e65eab47ca3f.cache\n",
      "Loading model cost 1.387 seconds.\n",
      "Prefix dict has been built successfully.\n"
     ]
    }
   ],
   "source": [
    "# 採用平行運算\n",
    "# 僅支援jieba.dt 和 jieba.posseg.dt\n",
    "# Windows 不支援\n",
    "# 例如使用4個核心執行\n",
    "# i.e.\n",
    "# jiena.enable_parallel(4)\n",
    "\n",
    "wget.download(\"https://github.com/fxsjy/jieba/raw/master/extra_dict/dict.txt.big\",\n",
    "              \"dict.txt.big\")\n",
    "wget.download(\"https://raw.githubusercontent.com/fxsjy/jieba/master/test/userdict.txt\",\n",
    "              \"userdict.txt\")\n",
    "\n",
    "#載入指定主詞典路徑\n",
    "jieba.set_dictionary('dict.txt.big')\n",
    "\n",
    "#載入指定自定義詞典路徑\n",
    "jieba.load_userdict('userdict.txt')"
   ]
  },
  {
   "cell_type": "markdown",
   "id": "f4a1cf3c",
   "metadata": {},
   "source": [
    "# 3.1.2 斷詞"
   ]
  },
  {
   "cell_type": "code",
   "execution_count": 8,
   "id": "8580c15b",
   "metadata": {},
   "outputs": [
    {
     "name": "stdout",
     "output_type": "stream",
     "text": [
      "【paddle模式】\n",
      "[['人工智慧', '亦', '稱智域', '、', '機器', '智慧', '，', '指由人', '製造', '出來', '的', '機器', '所', '表現', '出來', '的', '智慧', '。'], ['通常', '人工智慧', '是', '指', '透過', '普通', '電腦程式', '來', '呈現', '人類', '智慧', '的', '技術', '。'], ['中華', '郵政', '未來', '智慧', '物流', '服務', '，', '將取', '之大眾', '智慧', '，', '中華', '郵政', '帶給', '民眾', '更好', '的', '便利', '生活', '。']]\n",
      "\n",
      "【全模式】\n",
      "[['人工', '人工智慧', '智慧', '亦', '稱', '智', '域', '、', '機器', '智慧', '，', '指', '由', '人', '製造', '造出', '造出來', '出來', '的', '機器', '所', '表現', '現出', '出來', '的', '智慧', '。'], ['通常', '常人', '人工', '人工智慧', '智慧', '是', '指', '透過', '普通', '通電', '電腦', '電腦程式', '程式', '來', '呈現', '人類', '智慧', '的', '技術', '。'], ['中華', '中華郵', '郵政', '未來', '智慧', '物流', '服務', '，', '將', '取', '之', '大', '眾', '智慧', '，', '中華', '中華郵', '郵政', '帶給', '民', '眾', '更好', '的', '便利', '利生', '生活', '。']]\n",
      "\n",
      "【精確模式】\n",
      "[['人工智慧', '亦', '稱智域', '、', '機器', '智慧', '，', '指由人', '製造', '出來', '的', '機器', '所', '表現', '出來', '的', '智慧', '。'], ['通常', '人工智慧', '是', '指', '透過', '普通', '電腦程式', '來', '呈現', '人類', '智慧', '的', '技術', '。'], ['中華', '郵政', '未來', '智慧', '物流', '服務', '，', '將取', '之大眾', '智慧', '，', '中華', '郵政', '帶給', '民眾', '更好', '的', '便利', '生活', '。']]\n",
      "\n",
      "【搜索引擎模式】\n",
      "[['人工', '智慧', '人工智慧', '亦', '稱智域', '、', '機器', '智慧', '，', '指由人', '製造', '出來', '的', '機器', '所', '表現', '出來', '的', '智慧', '。'], ['通常', '人工', '智慧', '人工智慧', '是', '指', '透過', '普通', '電腦', '程式', '電腦程式', '來', '呈現', '人類', '智慧', '的', '技術', '。'], ['中華', '郵政', '未來', '智慧', '物流', '服務', '，', '將取', '之大眾', '智慧', '，', '中華', '郵政', '帶給', '民眾', '更好', '的', '便利', '生活', '。']]\n"
     ]
    }
   ],
   "source": [
    "print('【paddle模式】')\n",
    "J_sents_annotated_ws = [jieba.lcut(sent , use_paddle=True) for sent in zh_text]\n",
    "print(J_sents_annotated_ws)\n",
    "\n",
    "print('\\n【全模式】')\n",
    "J_sents_annotated_ws = [jieba.lcut(sent , cut_all=True) for sent in zh_text]\n",
    "print(J_sents_annotated_ws)\n",
    "\n",
    "print('\\n【精確模式】')\n",
    "J_sents_annotated_ws = [jieba.lcut(sent , cut_all=False) for sent in zh_text]\n",
    "print(J_sents_annotated_ws)\n",
    "\n",
    "print('\\n【搜索引擎模式】')\n",
    "J_sents_annotated_ws = [jieba.lcut_for_search(sent) for sent in zh_text]\n",
    "print(J_sents_annotated_ws)"
   ]
  },
  {
   "cell_type": "code",
   "execution_count": 9,
   "id": "e5c4e688",
   "metadata": {},
   "outputs": [
    {
     "name": "stdout",
     "output_type": "stream",
     "text": [
      "\n",
      "【精確模式】\n",
      "[['人工智慧', '亦', '稱智域', '、', '機器', '智慧', '，', '指由人', '製造', '出來', '的', '機器', '所', '表現', '出來', '的', '智慧', '。'], ['通常', '人工智慧', '是', '指', '透過', '普通', '電腦程式', '來', '呈現', '人類', '智慧', '的', '技術', '。'], ['中華郵政', '未來', '智慧', '物流', '服務', '，', '將取', '之大眾', '智慧', '，', '中華郵政', '帶給', '民眾', '更好', '的', '便利', '生活', '。']]\n"
     ]
    }
   ],
   "source": [
    "#調整詞典\n",
    "jieba.add_word(\"中華郵政\" , freq=None , tag=None)\n",
    "\n",
    "print('\\n【精確模式】')\n",
    "J_sents_annotated_ws = [jieba.lcut(sent , cut_all=False) for sent in zh_text]\n",
    "print(J_sents_annotated_ws)"
   ]
  },
  {
   "cell_type": "markdown",
   "id": "3e6a1e01",
   "metadata": {},
   "source": [
    "# 3.1.3 詞性標記"
   ]
  },
  {
   "cell_type": "code",
   "execution_count": 10,
   "id": "50d33733",
   "metadata": {},
   "outputs": [
    {
     "name": "stdout",
     "output_type": "stream",
     "text": [
      "【paddle模式】\n"
     ]
    },
    {
     "data": {
      "text/plain": [
       "[[pair('人工智慧', 'l'),\n",
       "  pair('亦', 'd'),\n",
       "  pair('稱', 'v'),\n",
       "  pair('智域', 'n'),\n",
       "  pair('、', 'x'),\n",
       "  pair('機器', 'x'),\n",
       "  pair('智慧', 'nr'),\n",
       "  pair('，', 'x'),\n",
       "  pair('指由人', 'n'),\n",
       "  pair('製造', 'x'),\n",
       "  pair('出來', 'x'),\n",
       "  pair('的', 'uj'),\n",
       "  pair('機器', 'x'),\n",
       "  pair('所', 'c'),\n",
       "  pair('表現', 'x'),\n",
       "  pair('出來', 'x'),\n",
       "  pair('的', 'uj'),\n",
       "  pair('智慧', 'nr'),\n",
       "  pair('。', 'x')],\n",
       " [pair('通常', 'd'),\n",
       "  pair('人工智慧', 'l'),\n",
       "  pair('是', 'v'),\n",
       "  pair('指', 'n'),\n",
       "  pair('透過', 'x'),\n",
       "  pair('普通', 'nz'),\n",
       "  pair('電腦程式', 'x'),\n",
       "  pair('來', 'zg'),\n",
       "  pair('呈現', 'x'),\n",
       "  pair('人類', 'x'),\n",
       "  pair('智慧', 'nr'),\n",
       "  pair('的', 'uj'),\n",
       "  pair('技術', 'x'),\n",
       "  pair('。', 'x')],\n",
       " [pair('中華郵政', 'x'),\n",
       "  pair('未來', 'x'),\n",
       "  pair('智慧', 'nr'),\n",
       "  pair('物流', 'n'),\n",
       "  pair('服務', 'x'),\n",
       "  pair('，', 'x'),\n",
       "  pair('將', 'd'),\n",
       "  pair('取', 'v'),\n",
       "  pair('之', 'u'),\n",
       "  pair('大眾', 'n'),\n",
       "  pair('智慧', 'nr'),\n",
       "  pair('，', 'x'),\n",
       "  pair('中華郵政', 'x'),\n",
       "  pair('帶給', 'x'),\n",
       "  pair('民眾', 'n'),\n",
       "  pair('更好', 'd'),\n",
       "  pair('的', 'uj'),\n",
       "  pair('便利', 'a'),\n",
       "  pair('生活', 'vn'),\n",
       "  pair('。', 'x')]]"
      ]
     },
     "execution_count": 10,
     "metadata": {},
     "output_type": "execute_result"
    }
   ],
   "source": [
    "print('【paddle模式】')\n",
    "J_sents_annotated_pos = [pseg.lcut(sent , use_paddle=True) for sent in zh_text]\n",
    "J_sents_annotated_pos"
   ]
  },
  {
   "cell_type": "code",
   "execution_count": 11,
   "id": "06225734",
   "metadata": {},
   "outputs": [
    {
     "name": "stdout",
     "output_type": "stream",
     "text": [
      "INDEX\tTEXT\tPOS\n",
      "0\t人工智慧\tl\n",
      "1\t亦\td\n",
      "2\t稱\tv\n",
      "3\t智域\tn\n",
      "4\t、\tx\n",
      "5\t機器\tx\n",
      "6\t智慧\tnr\n",
      "7\t，\tx\n",
      "8\t指由人\tn\n",
      "9\t製造\tx\n",
      "10\t出來\tx\n",
      "11\t的\tuj\n",
      "12\t機器\tx\n",
      "13\t所\tc\n",
      "14\t表現\tx\n",
      "15\t出來\tx\n",
      "16\t的\tuj\n",
      "17\t智慧\tnr\n",
      "18\t。\tx\n",
      "\n",
      "0\t通常\td\n",
      "1\t人工智慧\tl\n",
      "2\t是\tv\n",
      "3\t指\tn\n",
      "4\t透過\tx\n",
      "5\t普通\tnz\n",
      "6\t電腦程式\tx\n",
      "7\t來\tzg\n",
      "8\t呈現\tx\n",
      "9\t人類\tx\n",
      "10\t智慧\tnr\n",
      "11\t的\tuj\n",
      "12\t技術\tx\n",
      "13\t。\tx\n",
      "\n",
      "0\t中華郵政\tx\n",
      "1\t未來\tx\n",
      "2\t智慧\tnr\n",
      "3\t物流\tn\n",
      "4\t服務\tx\n",
      "5\t，\tx\n",
      "6\t將\td\n",
      "7\t取\tv\n",
      "8\t之\tu\n",
      "9\t大眾\tn\n",
      "10\t智慧\tnr\n",
      "11\t，\tx\n",
      "12\t中華郵政\tx\n",
      "13\t帶給\tx\n",
      "14\t民眾\tn\n",
      "15\t更好\td\n",
      "16\t的\tuj\n",
      "17\t便利\ta\n",
      "18\t生活\tvn\n",
      "19\t。\tx\n",
      "\n"
     ]
    }
   ],
   "source": [
    "print(\"INDEX\\tTEXT\\tPOS\")\n",
    "for sent in J_sents_annotated_pos:\n",
    "    for i,(word,pos) in enumerate(sent):\n",
    "        print('{}\\t{}\\t{}' .format(i,word,pos))\n",
    "    print('')"
   ]
  },
  {
   "cell_type": "code",
   "execution_count": null,
   "id": "3a266065",
   "metadata": {},
   "outputs": [],
   "source": []
  }
 ],
 "metadata": {
  "kernelspec": {
   "display_name": "Python 3",
   "language": "python",
   "name": "python3"
  },
  "language_info": {
   "codemirror_mode": {
    "name": "ipython",
    "version": 3
   },
   "file_extension": ".py",
   "mimetype": "text/x-python",
   "name": "python",
   "nbconvert_exporter": "python",
   "pygments_lexer": "ipython3",
   "version": "3.8.8"
  }
 },
 "nbformat": 4,
 "nbformat_minor": 5
}
