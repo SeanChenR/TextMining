{
 "cells": [
  {
   "cell_type": "markdown",
   "id": "95eefa3f",
   "metadata": {},
   "source": [
    "# 3.3 CKIP Transformers\n",
    "### 這個專案提供了繁體中文的transformers模型 (包含ALBERT、BERT、GPT2) 及自然語言處理工具 (包含斷詞、詞性標記、實體辨識)\n",
    "### See on Github : https://github.com/ckiplab/ckip-transformers"
   ]
  },
  {
   "cell_type": "markdown",
   "id": "04c3f57c",
   "metadata": {},
   "source": [
    "# 3.3.1 套件安裝與載入"
   ]
  },
  {
   "cell_type": "code",
   "execution_count": null,
   "id": "27ebad0e",
   "metadata": {
    "scrolled": true
   },
   "outputs": [],
   "source": [
    "!pip install transformers\n",
    "import transformers\n",
    "!pip install ckip-transformers\n",
    "import ckip_transformers"
   ]
  },
  {
   "cell_type": "code",
   "execution_count": null,
   "id": "8909c736",
   "metadata": {
    "scrolled": true
   },
   "outputs": [],
   "source": [
    "from ckip_transformers.nlp import CkipWordSegmenter\n",
    "from ckip_transformers.nlp import CkipPosTagger\n",
    "from ckip_transformers.nlp import CkipNerChunker"
   ]
  },
  {
   "cell_type": "code",
   "execution_count": null,
   "id": "beb17b39",
   "metadata": {},
   "outputs": [],
   "source": [
    "print(\"Initializing drivers ... WS\")\n",
    "CKIP_WS = CkipWordSegmenter(model='bert-base' , device=0)\n",
    "\n",
    "print(\"Initializing drivers ... POS\")\n",
    "CKIP_POS = CkipPosTagger(model='bert-base' , device=0)\n",
    "\n",
    "print(\"Initializing drivers ... NER\")\n",
    "CKIP_NER = CkipNerChunker(model='bert-base' , device=0)"
   ]
  },
  {
   "cell_type": "code",
   "execution_count": null,
   "id": "0209d459",
   "metadata": {},
   "outputs": [],
   "source": [
    "zh_text = ['人工智慧亦稱智域、機器智慧，指由人製造出來的機器所表現出來的智慧。',\n",
    "           '通常人工智慧是指透過普通電腦程式來呈現人類智慧的技術。',\n",
    "           '中華郵政未來智慧物流服務，將取之大眾智慧，中華郵政帶給民眾更好的便利生活。']\n",
    "\n",
    "en_text = ['In 1951, a board of directors was created and premises were rented on Hankou Street in downtown Taipei to set up the so-called Soochow Preparatory School.',\n",
    "           'The school became the first private university in Taiwan.']"
   ]
  },
  {
   "cell_type": "markdown",
   "id": "a22ace77",
   "metadata": {},
   "source": [
    "# 3.3.2斷詞 (WS)"
   ]
  },
  {
   "cell_type": "code",
   "execution_count": null,
   "id": "8617b1ae",
   "metadata": {},
   "outputs": [],
   "source": [
    "C_sents_annotated_ws = CKIP_WS(zh_text)"
   ]
  },
  {
   "cell_type": "code",
   "execution_count": null,
   "id": "c775bcbc",
   "metadata": {},
   "outputs": [],
   "source": [
    "print(\"C_sents_annotated_ws ->\" , C_sents_annotated_ws)"
   ]
  },
  {
   "cell_type": "markdown",
   "id": "8b6c71f4",
   "metadata": {},
   "source": [
    "# 3.3.3 詞性標記 (POS)"
   ]
  },
  {
   "cell_type": "markdown",
   "id": "90ad7f15",
   "metadata": {},
   "source": [
    "## 3.3.3.1 進行詞性標記"
   ]
  },
  {
   "cell_type": "code",
   "execution_count": null,
   "id": "cc311201",
   "metadata": {},
   "outputs": [],
   "source": [
    "#詞性標記的輸入必須是list of the words\n",
    "C_sents_annotated_pos = CKIP_POS(C_sents_annotated_ws)"
   ]
  },
  {
   "cell_type": "code",
   "execution_count": null,
   "id": "70c4224b",
   "metadata": {},
   "outputs": [],
   "source": [
    "print('sents_annotated_pos ->')\n",
    "print(list(zip(C_sents_annotated_ws[0] , C_sents_annotated_pos[0])))"
   ]
  },
  {
   "cell_type": "code",
   "execution_count": null,
   "id": "df818681",
   "metadata": {},
   "outputs": [],
   "source": [
    "C_sents_annotated_pos"
   ]
  },
  {
   "cell_type": "markdown",
   "id": "3968e07a",
   "metadata": {},
   "source": [
    "## 3.3.3.2 根據詞性篩選字詞"
   ]
  },
  {
   "cell_type": "code",
   "execution_count": null,
   "id": "2f6736f9",
   "metadata": {},
   "outputs": [],
   "source": [
    "def filter_by_pos(sent, pos_filter):\n",
    "    filter_pos_sent = []\n",
    "    for j, (word,pos) in enumerate(zip(sent[0], sent[1])):\n",
    "        if pos[0] in pos_filter:\n",
    "            filter_pos_sent.append(word)\n",
    "    return filter_pos_sent"
   ]
  },
  {
   "cell_type": "code",
   "execution_count": null,
   "id": "57c899ea",
   "metadata": {},
   "outputs": [],
   "source": [
    "#定義要篩選的詞性tag\n",
    "pos_filter = ['V']\n",
    "\n",
    "#合併斷詞和詞性\n",
    "C_sents_annotated_ws_pos = zip(C_sents_annotated_ws , C_sents_annotated_pos)\n",
    "\n",
    "#根據特定詞性篩選\n",
    "C_sents_annotated_pos = [filter_by_pos(sent, pos_filter) for sent in C_sents_annotated_ws_pos]"
   ]
  },
  {
   "cell_type": "code",
   "execution_count": null,
   "id": "60df9f88",
   "metadata": {},
   "outputs": [],
   "source": [
    "print(\"sents_annotated_ws ->\" , C_sents_annotated_ws , '\\n')\n",
    "print(\"sents_annotated_pos ->\" , C_sents_annotated_pos , '\\n')\n",
    "print(\"sents_filter_ws ->\" , C_sents_filter_pos)"
   ]
  },
  {
   "cell_type": "markdown",
   "id": "e6542425",
   "metadata": {},
   "source": [
    "## 3.3.3.4 命名實體辨識 (NER)"
   ]
  },
  {
   "cell_type": "code",
   "execution_count": null,
   "id": "e9fb8b66",
   "metadata": {},
   "outputs": [],
   "source": [
    "#NER的輸入必須是 list of sentences\n",
    "\n",
    "C_sents_annotated_ner = CKIP_NER(zh_text)"
   ]
  },
  {
   "cell_type": "code",
   "execution_count": null,
   "id": "e2680e76",
   "metadata": {},
   "outputs": [],
   "source": [
    "print(C_sents_annotated_ner)"
   ]
  },
  {
   "cell_type": "code",
   "execution_count": null,
   "id": "92d4994d",
   "metadata": {},
   "outputs": [],
   "source": [
    "def filter_by_ner(sent, ner_filter):\n",
    "    filter_ner_sent = []\n",
    "    for j,word in enumerate(sent):\n",
    "        if word.ner in ner_filter:\n",
    "            filter_ner_sent.append(word.word)\n",
    "    return filter_ner_sent"
   ]
  },
  {
   "cell_type": "code",
   "execution_count": null,
   "id": "80420a14",
   "metadata": {},
   "outputs": [],
   "source": [
    "#定義要篩選的命名實體tag\n",
    "ner_filter = ['ORG']\n",
    "\n",
    "#根據特定詞性篩選\n",
    "C_sents_filter_ner = [filter_by_ner(sent , ner_filter) for sent in C_sents_annotated_ner]"
   ]
  },
  {
   "cell_type": "code",
   "execution_count": null,
   "id": "f73d79ff",
   "metadata": {},
   "outputs": [],
   "source": [
    "print(\"sents_filter_ner ->\" , C_sents_filter_ner)"
   ]
  }
 ],
 "metadata": {
  "kernelspec": {
   "display_name": "Python 3 (ipykernel)",
   "language": "python",
   "name": "python3"
  },
  "language_info": {
   "codemirror_mode": {
    "name": "ipython",
    "version": 3
   },
   "file_extension": ".py",
   "mimetype": "text/x-python",
   "name": "python",
   "nbconvert_exporter": "python",
   "pygments_lexer": "ipython3",
   "version": "3.11.4"
  }
 },
 "nbformat": 4,
 "nbformat_minor": 5
}
