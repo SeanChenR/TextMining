{
 "cells": [
  {
   "cell_type": "markdown",
   "id": "95eefa3f",
   "metadata": {},
   "source": [
    "# 3.3 CKIP Transformers\n",
    "### 這個專案提供了繁體中文的transformers模型 (包含ALBERT、BERT、GPT2) 及自然語言處理工具 (包含斷詞、詞性標記、實體辨識)\n",
    "### See on Github : https://github.com/ckiplab/ckip-transformers"
   ]
  },
  {
   "cell_type": "markdown",
   "id": "04c3f57c",
   "metadata": {},
   "source": [
    "# 3.3.1 套件安裝與載入"
   ]
  },
  {
   "cell_type": "code",
   "execution_count": 1,
   "id": "27ebad0e",
   "metadata": {
    "scrolled": true
   },
   "outputs": [
    {
     "name": "stdout",
     "output_type": "stream",
     "text": [
      "Collecting transformers\n",
      "  Downloading transformers-4.34.1-py3-none-any.whl (7.7 MB)\n",
      "     ---------------------------------------- 7.7/7.7 MB 1.9 MB/s eta 0:00:00\n",
      "Requirement already satisfied: regex!=2019.12.17 in c:\\users\\angus\\anaconda3\\lib\\site-packages (from transformers) (2021.4.4)\n",
      "Requirement already satisfied: pyyaml>=5.1 in c:\\users\\angus\\anaconda3\\lib\\site-packages (from transformers) (5.4.1)\n",
      "Collecting safetensors>=0.3.1\n",
      "  Downloading safetensors-0.4.0-cp38-none-win_amd64.whl (277 kB)\n",
      "     -------------------------------------- 277.4/277.4 kB 2.1 MB/s eta 0:00:00\n",
      "Requirement already satisfied: filelock in c:\\users\\angus\\anaconda3\\lib\\site-packages (from transformers) (3.0.12)\n",
      "Requirement already satisfied: tqdm>=4.27 in c:\\users\\angus\\anaconda3\\lib\\site-packages (from transformers) (4.65.0)\n",
      "Requirement already satisfied: numpy>=1.17 in c:\\users\\angus\\anaconda3\\lib\\site-packages (from transformers) (1.23.5)\n",
      "Requirement already satisfied: packaging>=20.0 in c:\\users\\angus\\anaconda3\\lib\\site-packages (from transformers) (21.3)\n",
      "Collecting tokenizers<0.15,>=0.14\n",
      "  Downloading tokenizers-0.14.1-cp38-none-win_amd64.whl (2.2 MB)\n",
      "     ---------------------------------------- 2.2/2.2 MB 4.2 MB/s eta 0:00:00\n",
      "Collecting huggingface-hub<1.0,>=0.16.4\n",
      "  Downloading huggingface_hub-0.18.0-py3-none-any.whl (301 kB)\n",
      "     -------------------------------------- 302.0/302.0 kB 2.7 MB/s eta 0:00:00\n",
      "Requirement already satisfied: requests in c:\\users\\angus\\anaconda3\\lib\\site-packages (from transformers) (2.31.0)\n",
      "Requirement already satisfied: typing-extensions>=3.7.4.3 in c:\\users\\angus\\anaconda3\\lib\\site-packages (from huggingface-hub<1.0,>=0.16.4->transformers) (3.7.4.3)\n",
      "Collecting fsspec>=2023.5.0\n",
      "  Downloading fsspec-2023.10.0-py3-none-any.whl (166 kB)\n",
      "     -------------------------------------- 166.4/166.4 kB 3.3 MB/s eta 0:00:00\n",
      "Requirement already satisfied: pyparsing!=3.0.5,>=2.0.2 in c:\\users\\angus\\anaconda3\\lib\\site-packages (from packaging>=20.0->transformers) (2.4.7)\n",
      "Collecting huggingface-hub<1.0,>=0.16.4\n",
      "  Downloading huggingface_hub-0.17.3-py3-none-any.whl (295 kB)\n",
      "     -------------------------------------- 295.0/295.0 kB 3.7 MB/s eta 0:00:00\n",
      "Requirement already satisfied: colorama in c:\\users\\angus\\anaconda3\\lib\\site-packages (from tqdm>=4.27->transformers) (0.4.4)\n",
      "Requirement already satisfied: urllib3<3,>=1.21.1 in c:\\users\\angus\\anaconda3\\lib\\site-packages (from requests->transformers) (1.26.4)\n",
      "Requirement already satisfied: certifi>=2017.4.17 in c:\\users\\angus\\anaconda3\\lib\\site-packages (from requests->transformers) (2020.12.5)\n",
      "Requirement already satisfied: idna<4,>=2.5 in c:\\users\\angus\\anaconda3\\lib\\site-packages (from requests->transformers) (2.10)\n",
      "Requirement already satisfied: charset-normalizer<4,>=2 in c:\\users\\angus\\anaconda3\\lib\\site-packages (from requests->transformers) (2.0.12)\n",
      "Installing collected packages: safetensors, fsspec, huggingface-hub, tokenizers, transformers\n",
      "  Attempting uninstall: fsspec\n",
      "    Found existing installation: fsspec 0.9.0\n",
      "    Uninstalling fsspec-0.9.0:\n",
      "      Successfully uninstalled fsspec-0.9.0\n",
      "Successfully installed fsspec-2023.10.0 huggingface-hub-0.17.3 safetensors-0.4.0 tokenizers-0.14.1 transformers-4.34.1\n"
     ]
    },
    {
     "name": "stderr",
     "output_type": "stream",
     "text": [
      "WARNING: There was an error checking the latest version of pip.\n"
     ]
    },
    {
     "name": "stdout",
     "output_type": "stream",
     "text": [
      "Collecting ckip-transformers\n",
      "  Downloading ckip_transformers-0.3.4-py3-none-any.whl (26 kB)\n",
      "Requirement already satisfied: transformers>=3.5.0 in c:\\users\\angus\\anaconda3\\lib\\site-packages (from ckip-transformers) (4.34.1)\n",
      "Requirement already satisfied: tqdm>=4.27 in c:\\users\\angus\\anaconda3\\lib\\site-packages (from ckip-transformers) (4.65.0)\n",
      "Requirement already satisfied: torch>=1.5.0 in c:\\users\\angus\\anaconda3\\lib\\site-packages (from ckip-transformers) (2.0.1)\n",
      "Requirement already satisfied: sympy in c:\\users\\angus\\anaconda3\\lib\\site-packages (from torch>=1.5.0->ckip-transformers) (1.8)\n",
      "Requirement already satisfied: jinja2 in c:\\users\\angus\\anaconda3\\lib\\site-packages (from torch>=1.5.0->ckip-transformers) (2.11.3)\n",
      "Requirement already satisfied: typing-extensions in c:\\users\\angus\\anaconda3\\lib\\site-packages (from torch>=1.5.0->ckip-transformers) (3.7.4.3)\n",
      "Requirement already satisfied: networkx in c:\\users\\angus\\anaconda3\\lib\\site-packages (from torch>=1.5.0->ckip-transformers) (2.5)\n",
      "Requirement already satisfied: filelock in c:\\users\\angus\\anaconda3\\lib\\site-packages (from torch>=1.5.0->ckip-transformers) (3.0.12)\n",
      "Requirement already satisfied: colorama in c:\\users\\angus\\anaconda3\\lib\\site-packages (from tqdm>=4.27->ckip-transformers) (0.4.4)\n",
      "Requirement already satisfied: safetensors>=0.3.1 in c:\\users\\angus\\anaconda3\\lib\\site-packages (from transformers>=3.5.0->ckip-transformers) (0.4.0)\n",
      "Requirement already satisfied: huggingface-hub<1.0,>=0.16.4 in c:\\users\\angus\\anaconda3\\lib\\site-packages (from transformers>=3.5.0->ckip-transformers) (0.17.3)\n",
      "Requirement already satisfied: regex!=2019.12.17 in c:\\users\\angus\\anaconda3\\lib\\site-packages (from transformers>=3.5.0->ckip-transformers) (2021.4.4)\n",
      "Requirement already satisfied: pyyaml>=5.1 in c:\\users\\angus\\anaconda3\\lib\\site-packages (from transformers>=3.5.0->ckip-transformers) (5.4.1)\n",
      "Requirement already satisfied: packaging>=20.0 in c:\\users\\angus\\anaconda3\\lib\\site-packages (from transformers>=3.5.0->ckip-transformers) (21.3)\n",
      "Requirement already satisfied: tokenizers<0.15,>=0.14 in c:\\users\\angus\\anaconda3\\lib\\site-packages (from transformers>=3.5.0->ckip-transformers) (0.14.1)\n",
      "Requirement already satisfied: requests in c:\\users\\angus\\anaconda3\\lib\\site-packages (from transformers>=3.5.0->ckip-transformers) (2.31.0)\n",
      "Requirement already satisfied: numpy>=1.17 in c:\\users\\angus\\anaconda3\\lib\\site-packages (from transformers>=3.5.0->ckip-transformers) (1.23.5)\n",
      "Requirement already satisfied: fsspec in c:\\users\\angus\\anaconda3\\lib\\site-packages (from huggingface-hub<1.0,>=0.16.4->transformers>=3.5.0->ckip-transformers) (2023.10.0)\n",
      "Requirement already satisfied: pyparsing!=3.0.5,>=2.0.2 in c:\\users\\angus\\anaconda3\\lib\\site-packages (from packaging>=20.0->transformers>=3.5.0->ckip-transformers) (2.4.7)\n",
      "Requirement already satisfied: MarkupSafe>=0.23 in c:\\users\\angus\\anaconda3\\lib\\site-packages (from jinja2->torch>=1.5.0->ckip-transformers) (1.1.1)\n",
      "Requirement already satisfied: decorator>=4.3.0 in c:\\users\\angus\\anaconda3\\lib\\site-packages (from networkx->torch>=1.5.0->ckip-transformers) (5.0.6)\n",
      "Requirement already satisfied: idna<4,>=2.5 in c:\\users\\angus\\anaconda3\\lib\\site-packages (from requests->transformers>=3.5.0->ckip-transformers) (2.10)\n",
      "Requirement already satisfied: certifi>=2017.4.17 in c:\\users\\angus\\anaconda3\\lib\\site-packages (from requests->transformers>=3.5.0->ckip-transformers) (2020.12.5)\n",
      "Requirement already satisfied: charset-normalizer<4,>=2 in c:\\users\\angus\\anaconda3\\lib\\site-packages (from requests->transformers>=3.5.0->ckip-transformers) (2.0.12)\n",
      "Requirement already satisfied: urllib3<3,>=1.21.1 in c:\\users\\angus\\anaconda3\\lib\\site-packages (from requests->transformers>=3.5.0->ckip-transformers) (1.26.4)\n",
      "Requirement already satisfied: mpmath>=0.19 in c:\\users\\angus\\anaconda3\\lib\\site-packages (from sympy->torch>=1.5.0->ckip-transformers) (1.2.1)\n",
      "Installing collected packages: ckip-transformers\n",
      "Successfully installed ckip-transformers-0.3.4\n"
     ]
    },
    {
     "name": "stderr",
     "output_type": "stream",
     "text": [
      "WARNING: There was an error checking the latest version of pip.\n"
     ]
    }
   ],
   "source": [
    "!pip install transformers\n",
    "import transformers\n",
    "!pip install ckip-transformers\n",
    "import ckip_transformers"
   ]
  },
  {
   "cell_type": "code",
   "execution_count": 2,
   "id": "8909c736",
   "metadata": {
    "scrolled": true
   },
   "outputs": [],
   "source": [
    "from ckip_transformers.nlp import CkipWordSegmenter\n",
    "from ckip_transformers.nlp import CkipPosTagger\n",
    "from ckip_transformers.nlp import CkipNerChunker"
   ]
  },
  {
   "cell_type": "code",
   "execution_count": 4,
   "id": "beb17b39",
   "metadata": {},
   "outputs": [
    {
     "name": "stdout",
     "output_type": "stream",
     "text": [
      "Initializing drivers ... WS\n"
     ]
    },
    {
     "data": {
      "application/vnd.jupyter.widget-view+json": {
       "model_id": "0352116ca5c64c18a2fd9872941274e4",
       "version_major": 2,
       "version_minor": 0
      },
      "text/plain": [
       "Downloading pytorch_model.bin:   0%|          | 0.00/407M [00:00<?, ?B/s]"
      ]
     },
     "metadata": {},
     "output_type": "display_data"
    },
    {
     "data": {
      "application/vnd.jupyter.widget-view+json": {
       "model_id": "61c4e0778c0b410087cf813905981d08",
       "version_major": 2,
       "version_minor": 0
      },
      "text/plain": [
       "Downloading (…)okenizer_config.json:   0%|          | 0.00/301 [00:00<?, ?B/s]"
      ]
     },
     "metadata": {},
     "output_type": "display_data"
    },
    {
     "data": {
      "application/vnd.jupyter.widget-view+json": {
       "model_id": "a7a6249752ef464b8a255ecc8f749edb",
       "version_major": 2,
       "version_minor": 0
      },
      "text/plain": [
       "Downloading (…)solve/main/vocab.txt:   0%|          | 0.00/110k [00:00<?, ?B/s]"
      ]
     },
     "metadata": {},
     "output_type": "display_data"
    },
    {
     "data": {
      "application/vnd.jupyter.widget-view+json": {
       "model_id": "0b4d9f5a064a45d5bfb7617eb341768d",
       "version_major": 2,
       "version_minor": 0
      },
      "text/plain": [
       "Downloading (…)cial_tokens_map.json:   0%|          | 0.00/112 [00:00<?, ?B/s]"
      ]
     },
     "metadata": {},
     "output_type": "display_data"
    },
    {
     "name": "stdout",
     "output_type": "stream",
     "text": [
      "Initializing drivers ... POS\n"
     ]
    },
    {
     "data": {
      "application/vnd.jupyter.widget-view+json": {
       "model_id": "f38aa91725ae4fd993c89dfc43a94012",
       "version_major": 2,
       "version_minor": 0
      },
      "text/plain": [
       "Downloading (…)lve/main/config.json:   0%|          | 0.00/2.86k [00:00<?, ?B/s]"
      ]
     },
     "metadata": {},
     "output_type": "display_data"
    },
    {
     "data": {
      "application/vnd.jupyter.widget-view+json": {
       "model_id": "92782c20e94047aea9121727cd602629",
       "version_major": 2,
       "version_minor": 0
      },
      "text/plain": [
       "Downloading pytorch_model.bin:   0%|          | 0.00/407M [00:00<?, ?B/s]"
      ]
     },
     "metadata": {},
     "output_type": "display_data"
    },
    {
     "data": {
      "application/vnd.jupyter.widget-view+json": {
       "model_id": "1393ff6ed55c44e49ff3a89d56b8e27e",
       "version_major": 2,
       "version_minor": 0
      },
      "text/plain": [
       "Downloading (…)okenizer_config.json:   0%|          | 0.00/301 [00:00<?, ?B/s]"
      ]
     },
     "metadata": {},
     "output_type": "display_data"
    },
    {
     "data": {
      "application/vnd.jupyter.widget-view+json": {
       "model_id": "4bba652984434530bd2e8b114c05d000",
       "version_major": 2,
       "version_minor": 0
      },
      "text/plain": [
       "Downloading (…)solve/main/vocab.txt:   0%|          | 0.00/110k [00:00<?, ?B/s]"
      ]
     },
     "metadata": {},
     "output_type": "display_data"
    },
    {
     "data": {
      "application/vnd.jupyter.widget-view+json": {
       "model_id": "2895cfd2b8074b7997f58f0354ecf566",
       "version_major": 2,
       "version_minor": 0
      },
      "text/plain": [
       "Downloading (…)cial_tokens_map.json:   0%|          | 0.00/112 [00:00<?, ?B/s]"
      ]
     },
     "metadata": {},
     "output_type": "display_data"
    },
    {
     "name": "stdout",
     "output_type": "stream",
     "text": [
      "Initializing drivers ... NER\n"
     ]
    },
    {
     "data": {
      "application/vnd.jupyter.widget-view+json": {
       "model_id": "211423c9fb274a4a94af618dc29f3b5d",
       "version_major": 2,
       "version_minor": 0
      },
      "text/plain": [
       "Downloading (…)lve/main/config.json:   0%|          | 0.00/3.71k [00:00<?, ?B/s]"
      ]
     },
     "metadata": {},
     "output_type": "display_data"
    },
    {
     "data": {
      "application/vnd.jupyter.widget-view+json": {
       "model_id": "e818f4e1478448c59d16a1e2ea7364c4",
       "version_major": 2,
       "version_minor": 0
      },
      "text/plain": [
       "Downloading pytorch_model.bin:   0%|          | 0.00/407M [00:00<?, ?B/s]"
      ]
     },
     "metadata": {},
     "output_type": "display_data"
    },
    {
     "data": {
      "application/vnd.jupyter.widget-view+json": {
       "model_id": "f26236a1697849598b37d1977dd7efd4",
       "version_major": 2,
       "version_minor": 0
      },
      "text/plain": [
       "Downloading (…)okenizer_config.json:   0%|          | 0.00/301 [00:00<?, ?B/s]"
      ]
     },
     "metadata": {},
     "output_type": "display_data"
    },
    {
     "data": {
      "application/vnd.jupyter.widget-view+json": {
       "model_id": "9dd789806b024e839898650767084002",
       "version_major": 2,
       "version_minor": 0
      },
      "text/plain": [
       "Downloading (…)solve/main/vocab.txt:   0%|          | 0.00/110k [00:00<?, ?B/s]"
      ]
     },
     "metadata": {},
     "output_type": "display_data"
    },
    {
     "data": {
      "application/vnd.jupyter.widget-view+json": {
       "model_id": "2ec446a30d9c487eb10a2ff13f422fb8",
       "version_major": 2,
       "version_minor": 0
      },
      "text/plain": [
       "Downloading (…)cial_tokens_map.json:   0%|          | 0.00/112 [00:00<?, ?B/s]"
      ]
     },
     "metadata": {},
     "output_type": "display_data"
    }
   ],
   "source": [
    "print(\"Initializing drivers ... WS\")\n",
    "CKIP_WS = CkipWordSegmenter(model='bert-base' , device=-1)\n",
    "\n",
    "print(\"Initializing drivers ... POS\")\n",
    "CKIP_POS = CkipPosTagger(model='bert-base' , device=-1)\n",
    "\n",
    "print(\"Initializing drivers ... NER\")\n",
    "CKIP_NER = CkipNerChunker(model='bert-base' , device=-1)"
   ]
  },
  {
   "cell_type": "code",
   "execution_count": 14,
   "id": "0209d459",
   "metadata": {},
   "outputs": [],
   "source": [
    "zh_text = ['人工智慧亦稱智域、機器智慧，指由人製造出來的機器所表現出來的智慧。',\n",
    "           '通常人工智慧是指透過普通電腦程式來呈現人類智慧的技術。',\n",
    "           '中華郵政未來智慧物流服務，將取之大眾智慧，中華郵政帶給民眾更好的便利生活。']\n",
    "\n",
    "en_text = ['In 1951, a board of directors was created and premises were rented on Hankou Street in downtown Taipei to set up the so-called Soochow Preparatory School.',\n",
    "           'The school became the first private university in Taiwan.']"
   ]
  },
  {
   "cell_type": "markdown",
   "id": "a22ace77",
   "metadata": {},
   "source": [
    "# 3.3.2斷詞 (WS)"
   ]
  },
  {
   "cell_type": "code",
   "execution_count": 15,
   "id": "8617b1ae",
   "metadata": {},
   "outputs": [
    {
     "name": "stderr",
     "output_type": "stream",
     "text": [
      "\n",
      "Tokenization: 100%|████████████████████████████████████████████████████████████████████| 3/3 [00:00<00:00, 2976.79it/s]\u001b[A\n",
      "\n",
      "Inference:   0%|                                                                                 | 0/1 [00:00<?, ?it/s]\u001b[A\n",
      "Inference: 100%|█████████████████████████████████████████████████████████████████████████| 1/1 [00:00<00:00,  2.36it/s]\u001b[A\n"
     ]
    }
   ],
   "source": [
    "C_sents_annotated_ws = CKIP_WS(zh_text)"
   ]
  },
  {
   "cell_type": "code",
   "execution_count": 16,
   "id": "c775bcbc",
   "metadata": {},
   "outputs": [
    {
     "name": "stdout",
     "output_type": "stream",
     "text": [
      "C_sents_annotated_ws -> [['人工', '智慧', '亦', '稱', '智域', '、', '機器', '智慧', '，', '指', '由', '人', '製造出來', '的', '機器', '所', '表現出來', '的', '智慧', '。'], ['通常', '人工', '智慧', '是', '指', '透過', '普通', '電腦', '程式', '來', '呈現', '人類', '智慧', '的', '技術', '。'], ['中華', '郵政', '未來', '智慧', '物流', '服務', '，', '將', '取', '之', '大眾', '智慧', '，', '中華', '郵政', '帶給', '民眾', '更', '好', '的', '便利', '生活', '。']]\n"
     ]
    }
   ],
   "source": [
    "print(\"C_sents_annotated_ws ->\" , C_sents_annotated_ws)"
   ]
  },
  {
   "cell_type": "markdown",
   "id": "8b6c71f4",
   "metadata": {},
   "source": [
    "# 3.3.3 詞性標記 (POS)"
   ]
  },
  {
   "cell_type": "markdown",
   "id": "90ad7f15",
   "metadata": {},
   "source": [
    "## 3.3.3.1 進行詞性標記"
   ]
  },
  {
   "cell_type": "code",
   "execution_count": 17,
   "id": "cc311201",
   "metadata": {},
   "outputs": [
    {
     "name": "stderr",
     "output_type": "stream",
     "text": [
      "\n",
      "Tokenization: 100%|██████████████████████████████████████████████████████████████████████████████| 3/3 [00:00<?, ?it/s]\u001b[A\n",
      "\n",
      "Inference:   0%|                                                                                 | 0/1 [00:00<?, ?it/s]\u001b[A\n",
      "Inference: 100%|█████████████████████████████████████████████████████████████████████████| 1/1 [00:00<00:00,  1.80it/s]\u001b[A\n"
     ]
    }
   ],
   "source": [
    "#詞性標記的輸入必須是list of the words\n",
    "C_sents_annotated_pos = CKIP_POS(C_sents_annotated_ws)"
   ]
  },
  {
   "cell_type": "code",
   "execution_count": 18,
   "id": "70c4224b",
   "metadata": {},
   "outputs": [
    {
     "name": "stdout",
     "output_type": "stream",
     "text": [
      "sents_annotated_pos ->\n",
      "[('人工', 'Na'), ('智慧', 'Na'), ('亦', 'D'), ('稱', 'VG'), ('智域', 'Na'), ('、', 'PAUSECATEGORY'), ('機器', 'Na'), ('智慧', 'Na'), ('，', 'COMMACATEGORY'), ('指', 'VG'), ('由', 'P'), ('人', 'Na'), ('製造出來', 'VB'), ('的', 'DE'), ('機器', 'Na'), ('所', 'D'), ('表現出來', 'VB'), ('的', 'DE'), ('智慧', 'Na'), ('。', 'PERIODCATEGORY')]\n"
     ]
    }
   ],
   "source": [
    "print('sents_annotated_pos ->')\n",
    "print(list(zip(C_sents_annotated_ws[0] , C_sents_annotated_pos[0])))"
   ]
  },
  {
   "cell_type": "markdown",
   "id": "3968e07a",
   "metadata": {},
   "source": [
    "## 3.3.3.2 根據詞性篩選字詞"
   ]
  },
  {
   "cell_type": "code",
   "execution_count": 19,
   "id": "2f6736f9",
   "metadata": {},
   "outputs": [],
   "source": [
    "def filter_by_pos(sent, pos_filter):\n",
    "    filter_pos_sent = []\n",
    "    for j, (word,pos) in enumerate(zip(sent[0], sent[1])):\n",
    "        if pos[0] in pos_filter:\n",
    "            filter_pos_sent.append(word)\n",
    "    return filter_pos_sent"
   ]
  },
  {
   "cell_type": "code",
   "execution_count": 22,
   "id": "57c899ea",
   "metadata": {},
   "outputs": [],
   "source": [
    "#定義要篩選的詞性tag\n",
    "pos_filter = ['N']\n",
    "\n",
    "#合併斷詞和詞性\n",
    "C_sents_annotated_ws_pos = zip(C_sents_annotated_ws , C_sents_annotated_pos)\n",
    "\n",
    "#根據特定詞性篩選\n",
    "C_sents_filter_pos = [filter_by_pos(sent, pos_filter) for sent in C_sents_annotated_ws_pos]"
   ]
  },
  {
   "cell_type": "code",
   "execution_count": 23,
   "id": "60df9f88",
   "metadata": {},
   "outputs": [
    {
     "name": "stdout",
     "output_type": "stream",
     "text": [
      "sents_annotated_ws -> [['人工', '智慧', '亦', '稱', '智域', '、', '機器', '智慧', '，', '指', '由', '人', '製造出來', '的', '機器', '所', '表現出來', '的', '智慧', '。'], ['通常', '人工', '智慧', '是', '指', '透過', '普通', '電腦', '程式', '來', '呈現', '人類', '智慧', '的', '技術', '。'], ['中華', '郵政', '未來', '智慧', '物流', '服務', '，', '將', '取', '之', '大眾', '智慧', '，', '中華', '郵政', '帶給', '民眾', '更', '好', '的', '便利', '生活', '。']] \n",
      "\n",
      "sents_annotated_pos -> [['Na', 'Na', 'D', 'VG', 'Na', 'PAUSECATEGORY', 'Na', 'Na', 'COMMACATEGORY', 'VG', 'P', 'Na', 'VB', 'DE', 'Na', 'D', 'VB', 'DE', 'Na', 'PERIODCATEGORY'], ['D', 'Na', 'Na', 'SHI', 'VG', 'P', 'VH', 'Na', 'Na', 'D', 'VJ', 'Na', 'Na', 'DE', 'Na', 'PERIODCATEGORY'], ['Nc', 'Na', 'Nd', 'Na', 'Na', 'VC', 'COMMACATEGORY', 'D', 'VC', 'DE', 'Nh', 'Na', 'COMMACATEGORY', 'Nc', 'Na', 'VD', 'Na', 'Dfa', 'VH', 'DE', 'VL', 'Na', 'PERIODCATEGORY']] \n",
      "\n",
      "sents_filter_ws -> [['人工', '智慧', '智域', '機器', '智慧', '人', '機器', '智慧'], ['人工', '智慧', '電腦', '程式', '人類', '智慧', '技術'], ['中華', '郵政', '未來', '智慧', '物流', '大眾', '智慧', '中華', '郵政', '民眾', '生活']]\n"
     ]
    }
   ],
   "source": [
    "print(\"sents_annotated_ws ->\" , C_sents_annotated_ws , '\\n')\n",
    "print(\"sents_annotated_pos ->\" , C_sents_annotated_pos , '\\n')\n",
    "print(\"sents_filter_ws ->\" , C_sents_filter_pos)"
   ]
  },
  {
   "cell_type": "markdown",
   "id": "e6542425",
   "metadata": {},
   "source": [
    "## 3.3.3.4 命名實體辨識 (NER)"
   ]
  },
  {
   "cell_type": "code",
   "execution_count": 24,
   "id": "e9fb8b66",
   "metadata": {},
   "outputs": [
    {
     "name": "stderr",
     "output_type": "stream",
     "text": [
      "\n",
      "Tokenization: 100%|████████████████████████████████████████████████████████████████████| 3/3 [00:00<00:00, 1497.43it/s]\u001b[A\n",
      "\n",
      "Inference:   0%|                                                                                 | 0/1 [00:00<?, ?it/s]\u001b[A\n",
      "Inference: 100%|█████████████████████████████████████████████████████████████████████████| 1/1 [00:00<00:00,  2.20it/s]\u001b[A\n"
     ]
    }
   ],
   "source": [
    "#NER的輸入必須是 list of sentences\n",
    "\n",
    "C_sents_annotated_ner = CKIP_NER(zh_text)"
   ]
  },
  {
   "cell_type": "code",
   "execution_count": 25,
   "id": "e2680e76",
   "metadata": {},
   "outputs": [
    {
     "name": "stdout",
     "output_type": "stream",
     "text": [
      "[[], [], [NerToken(word='中華郵政', ner='ORG', idx=(0, 4)), NerToken(word='中華郵政', ner='ORG', idx=(21, 25))]]\n"
     ]
    }
   ],
   "source": [
    "print(C_sents_annotated_ner)"
   ]
  },
  {
   "cell_type": "code",
   "execution_count": 26,
   "id": "92d4994d",
   "metadata": {},
   "outputs": [],
   "source": [
    "def filter_by_ner(sent, ner_filter):\n",
    "    filter_ner_sent = []\n",
    "    for j,word in enumerate(sent):\n",
    "        if word.ner in ner_filter:\n",
    "            filter_ner_sent.append(word.word)\n",
    "    return filter_ner_sent"
   ]
  },
  {
   "cell_type": "code",
   "execution_count": 27,
   "id": "80420a14",
   "metadata": {},
   "outputs": [],
   "source": [
    "#定義要篩選的命名實體tag\n",
    "ner_filter = ['ORG']\n",
    "\n",
    "#根據特定詞性篩選\n",
    "C_sents_filter_ner = [filter_by_ner(sent , ner_filter) for sent in C_sents_annotated_ner]"
   ]
  },
  {
   "cell_type": "code",
   "execution_count": 28,
   "id": "f73d79ff",
   "metadata": {},
   "outputs": [
    {
     "name": "stdout",
     "output_type": "stream",
     "text": [
      "sents_filter_ner -> [[], [], ['中華郵政', '中華郵政']]\n"
     ]
    }
   ],
   "source": [
    "print(\"sents_filter_ner ->\" , C_sents_filter_ner)"
   ]
  },
  {
   "cell_type": "code",
   "execution_count": null,
   "id": "eb02a647",
   "metadata": {},
   "outputs": [],
   "source": []
  }
 ],
 "metadata": {
  "kernelspec": {
   "display_name": "Python 3",
   "language": "python",
   "name": "python3"
  },
  "language_info": {
   "codemirror_mode": {
    "name": "ipython",
    "version": 3
   },
   "file_extension": ".py",
   "mimetype": "text/x-python",
   "name": "python",
   "nbconvert_exporter": "python",
   "pygments_lexer": "ipython3",
   "version": "3.8.8"
  }
 },
 "nbformat": 4,
 "nbformat_minor": 5
}
